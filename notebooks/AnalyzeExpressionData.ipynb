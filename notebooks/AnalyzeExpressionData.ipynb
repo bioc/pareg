{
 "cells": [
  {
   "cell_type": "code",
   "execution_count": null,
   "metadata": {},
   "outputs": [],
   "source": [
    "import re\n",
    "from pathlib import Path\n",
    "\n",
    "import numpy as np\n",
    "import pandas as pd\n",
    "\n",
    "from sklearn import preprocessing\n",
    "\n",
    "import seaborn as sns\n",
    "import matplotlib.pyplot as plt\n",
    "\n",
    "from bioinf_common.plotting import corrplot"
   ]
  },
  {
   "cell_type": "code",
   "execution_count": null,
   "metadata": {},
   "outputs": [],
   "source": [
    "sns.set_context('talk')"
   ]
  },
  {
   "cell_type": "markdown",
   "metadata": {},
   "source": [
    "# Parameters"
   ]
  },
  {
   "cell_type": "code",
   "execution_count": null,
   "metadata": {},
   "outputs": [],
   "source": [
    "expr_fname = snakemake.input.expr_fname\n",
    "info_fname = snakemake.input.info_fname\n",
    "\n",
    "out_dir = Path(snakemake.output.out_dir)"
   ]
  },
  {
   "cell_type": "markdown",
   "metadata": {},
   "source": [
    "# Load data"
   ]
  },
  {
   "cell_type": "code",
   "execution_count": null,
   "metadata": {},
   "outputs": [],
   "source": [
    "df_expr = pd.read_csv(expr_fname, dtype={'node': str}).set_index('node')\n",
    "df_expr.head()"
   ]
  },
  {
   "cell_type": "code",
   "execution_count": null,
   "metadata": {},
   "outputs": [],
   "source": [
    "df_info = pd.read_csv(info_fname)\n",
    "df_info.head()"
   ]
  },
  {
   "cell_type": "markdown",
   "metadata": {},
   "source": [
    "# Count heatmap"
   ]
  },
  {
   "cell_type": "code",
   "execution_count": null,
   "metadata": {},
   "outputs": [],
   "source": [
    "plt.figure(figsize=(8, 6))\n",
    "sns.heatmap(df_expr, square=False)\n",
    "\n",
    "plt.tight_layout()\n",
    "plt.savefig(out_dir / 'count_heatmap.pdf')"
   ]
  },
  {
   "cell_type": "markdown",
   "metadata": {},
   "source": [
    "# Correlation clustermap"
   ]
  },
  {
   "cell_type": "code",
   "execution_count": null,
   "metadata": {},
   "outputs": [],
   "source": [
    "df_node_colors = pd.DataFrame({\n",
    "    'node': df_expr.index,\n",
    "    'idx': preprocessing.LabelEncoder().fit_transform([n.split('_')[0] for n in df_expr.index])\n",
    "}).set_index('node')\n",
    "\n",
    "pal = sns.color_palette(palette='tab10', n_colors=df_node_colors['idx'].nunique())\n",
    "df_node_colors['color'] = df_node_colors['idx'].apply(lambda x: pal[x])\n",
    "df_node_colors.drop(columns=['idx'], inplace=True)\n",
    "\n",
    "df_node_colors.head()"
   ]
  },
  {
   "cell_type": "code",
   "execution_count": null,
   "metadata": {},
   "outputs": [],
   "source": [
    "g = sns.clustermap(\n",
    "    df_expr.T.corr(),\n",
    "    xticklabels=True, yticklabels=True,\n",
    "    row_colors=df_node_colors, col_colors=df_node_colors\n",
    ")\n",
    "\n",
    "g.ax_heatmap.set_xticklabels(g.ax_heatmap.get_xmajorticklabels(), fontsize=8)\n",
    "g.ax_heatmap.set_yticklabels(g.ax_heatmap.get_ymajorticklabels(), fontsize=8)\n",
    "\n",
    "g.savefig(out_dir / 'clustermap.pdf')"
   ]
  },
  {
   "cell_type": "markdown",
   "metadata": {},
   "source": [
    "# Compare expression levels between conditions"
   ]
  },
  {
   "cell_type": "code",
   "execution_count": null,
   "metadata": {},
   "outputs": [],
   "source": [
    "def get_pathway_type(n):\n",
    "    match = re.match(r'[a-zA-Z]+\\d+([a-zA-Z]+)_[a-zA-Z]+', n)\n",
    "    return match.group(1) if match is not None else n.split('_')[0]\n",
    "\n",
    "index = pd.MultiIndex.from_tuples([(get_pathway_type(n), n) for n in df_expr.index], names=['pathway_type', 'node'])\n",
    "df_expr.set_index(index, inplace=True)\n",
    "df_expr.head()"
   ]
  },
  {
   "cell_type": "code",
   "execution_count": null,
   "metadata": {},
   "outputs": [],
   "source": [
    "for pathway, group_expr in df_expr.groupby(level=[0]):\n",
    "    bins = np.linspace(group_expr.to_numpy().min(), group_expr.to_numpy().max(), 30)\n",
    "    \n",
    "    plt.figure()\n",
    "    for condition, group_cond in df_info.groupby('condition'):\n",
    "        sns.distplot(group_expr[group_cond['sample']].values.ravel(), kde=False, label=condition, bins=bins)\n",
    "    \n",
    "    plt.xlabel('Gene expression')\n",
    "    plt.ylabel('Frequency')\n",
    "    \n",
    "    plt.yscale('log')\n",
    "    plt.title(f'Pathway type: {pathway}')\n",
    "    plt.legend(loc='best')\n",
    "    \n",
    "    plt.tight_layout()\n",
    "    plt.savefig(out_dir / f'expression_histogram_{pathway}.pdf')"
   ]
  }
 ],
 "metadata": {
  "kernelspec": {
   "display_name": "Python 3",
   "language": "python",
   "name": "python3"
  },
  "language_info": {
   "codemirror_mode": {
    "name": "ipython",
    "version": 3
   },
   "file_extension": ".py",
   "mimetype": "text/x-python",
   "name": "python",
   "nbconvert_exporter": "python",
   "pygments_lexer": "ipython3",
   "version": "3.7.6"
  }
 },
 "nbformat": 4,
 "nbformat_minor": 4
}
