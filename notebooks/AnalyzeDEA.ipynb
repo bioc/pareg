{
 "cells": [
  {
   "cell_type": "code",
   "execution_count": null,
   "metadata": {},
   "outputs": [],
   "source": [
    "import re\n",
    "from pathlib import Path\n",
    "\n",
    "import numpy as np\n",
    "import pandas as pd\n",
    "\n",
    "import seaborn as sns\n",
    "import matplotlib.pyplot as plt\n",
    "\n",
    "from bioinf_common.plotting import corrplot"
   ]
  },
  {
   "cell_type": "code",
   "execution_count": null,
   "metadata": {},
   "outputs": [],
   "source": [
    "sns.set_context('talk')"
   ]
  },
  {
   "cell_type": "markdown",
   "metadata": {},
   "source": [
    "# Parameters"
   ]
  },
  {
   "cell_type": "code",
   "execution_count": null,
   "metadata": {},
   "outputs": [],
   "source": [
    "dea_fname = snakemake.input.dea_fname\n",
    "\n",
    "out_dir = Path(snakemake.output.out_dir)"
   ]
  },
  {
   "cell_type": "markdown",
   "metadata": {},
   "source": [
    "# Load data"
   ]
  },
  {
   "cell_type": "code",
   "execution_count": null,
   "metadata": {},
   "outputs": [],
   "source": [
    "df = pd.read_csv(dea_fname)\n",
    "df.set_index('node', inplace=True)"
   ]
  },
  {
   "cell_type": "code",
   "execution_count": null,
   "metadata": {},
   "outputs": [],
   "source": [
    "df['pvalue_trans'] = -np.log10(df['pvalue'])"
   ]
  },
  {
   "cell_type": "code",
   "execution_count": null,
   "metadata": {},
   "outputs": [],
   "source": [
    "df.head()"
   ]
  },
  {
   "cell_type": "markdown",
   "metadata": {},
   "source": [
    "# Volcano Plot"
   ]
  },
  {
   "cell_type": "code",
   "execution_count": null,
   "metadata": {},
   "outputs": [],
   "source": [
    "def get_pathway_type(n):\n",
    "    match = re.match(r'[a-zA-Z]+\\d+([a-zA-Z]+)_[a-zA-Z]+', n)\n",
    "    return match.group(1) if match is not None else n.split('_')[0]\n",
    "\n",
    "index = pd.MultiIndex.from_tuples([(get_pathway_type(n), n) for n in df.index], names=['pathway_type', 'node'])\n",
    "df.set_index(index, inplace=True)\n",
    "df.head()"
   ]
  },
  {
   "cell_type": "code",
   "execution_count": null,
   "metadata": {},
   "outputs": [],
   "source": [
    "for pathway, group in df.groupby(level=[0]):\n",
    "    plt.figure(figsize=(8, 6))\n",
    "    sns.scatterplot(x='log2FoldChange', y='pvalue_trans', data=group)\n",
    "\n",
    "    plt.axhline(-np.log10(.05), color='red', ls='dashed')\n",
    "    plt.axvline(1, color='red', ls='dashed')\n",
    "    plt.axvline(-1, color='red', ls='dashed')\n",
    "\n",
    "    xmax = abs(np.asarray(plt.gca().get_xlim())).max()\n",
    "    plt.xlim(-xmax, xmax)\n",
    "    \n",
    "    plt.title(f'Pathway type: {pathway}')\n",
    "\n",
    "    plt.tight_layout()\n",
    "    plt.savefig(out_dir / f'volcano_plot_{pathway}.pdf')"
   ]
  }
 ],
 "metadata": {
  "kernelspec": {
   "display_name": "Python 3",
   "language": "python",
   "name": "python3"
  },
  "language_info": {
   "codemirror_mode": {
    "name": "ipython",
    "version": 3
   },
   "file_extension": ".py",
   "mimetype": "text/x-python",
   "name": "python",
   "nbconvert_exporter": "python",
   "pygments_lexer": "ipython3",
   "version": "3.7.6"
  }
 },
 "nbformat": 4,
 "nbformat_minor": 4
}
