{
 "cells": [
  {
   "cell_type": "code",
   "execution_count": null,
   "metadata": {},
   "outputs": [],
   "source": [
    "import json\n",
    "import datetime\n",
    "from pathlib import Path\n",
    "\n",
    "import numpy as np\n",
    "import pandas as pd\n",
    "\n",
    "import seaborn as sns\n",
    "import matplotlib.pyplot as plt\n",
    "from matplotlib.ticker import FuncFormatter\n",
    "\n",
    "from bioinf_common.plotting import corrplot"
   ]
  },
  {
   "cell_type": "code",
   "execution_count": null,
   "metadata": {},
   "outputs": [],
   "source": [
    "sns.set_context('talk')"
   ]
  },
  {
   "cell_type": "markdown",
   "metadata": {},
   "source": [
    "# Parameters"
   ]
  },
  {
   "cell_type": "code",
   "execution_count": null,
   "metadata": {},
   "outputs": [],
   "source": [
    "result_files = snakemake.input.result_files\n",
    "meta_files = snakemake.input.meta_files\n",
    "\n",
    "out_dir = Path(snakemake.output.out_dir)"
   ]
  },
  {
   "cell_type": "markdown",
   "metadata": {},
   "source": [
    "# Load data"
   ]
  },
  {
   "cell_type": "code",
   "execution_count": null,
   "metadata": {},
   "outputs": [],
   "source": [
    "df_list = []\n",
    "for fname in result_files:\n",
    "    tmp = pd.read_csv(fname)\n",
    "\n",
    "    _, tool, _, _ = fname.split('/')\n",
    "    tmp['tool'] = tool\n",
    "\n",
    "    df_list.append(tmp)\n",
    "\n",
    "df = pd.concat(df_list, ignore_index=True)\n",
    "df.head()"
   ]
  },
  {
   "cell_type": "code",
   "execution_count": null,
   "metadata": {},
   "outputs": [],
   "source": [
    "tmp = []\n",
    "for fname in meta_files:\n",
    "    with open(fname) as fd:\n",
    "        meta_data = json.load(fd)\n",
    "\n",
    "    _, tool, _, _ = fname.split('/')\n",
    "\n",
    "    tmp.append({\n",
    "        'tool': tool,\n",
    "        'runtime': meta_data['exec_time']\n",
    "    })\n",
    "\n",
    "df_meta = pd.DataFrame(tmp)\n",
    "df_meta.head()"
   ]
  },
  {
   "cell_type": "markdown",
   "metadata": {},
   "source": [
    "# Runtime comparison"
   ]
  },
  {
   "cell_type": "code",
   "execution_count": null,
   "metadata": {},
   "outputs": [],
   "source": [
    "@FuncFormatter\n",
    "def format_seconds(x, pos):\n",
    "    \"\"\"Convert seconds to readable timestamp.\"\"\"\n",
    "    return str(datetime.timedelta(seconds=round(x)))"
   ]
  },
  {
   "cell_type": "code",
   "execution_count": null,
   "metadata": {},
   "outputs": [],
   "source": [
    "sorted_tool_list = df_meta.loc[df_meta['tool'].str.lower().argsort(), 'tool'].unique()"
   ]
  },
  {
   "cell_type": "code",
   "execution_count": null,
   "metadata": {},
   "outputs": [],
   "source": [
    "plt.figure(figsize=(8, 8))\n",
    "\n",
    "sns.boxplot(\n",
    "    x='tool', y='runtime', data=df_meta,\n",
    "    order=sorted_tool_list)\n",
    "sns.stripplot(\n",
    "    x='tool', y='runtime', data=df_meta,\n",
    "    order=sorted_tool_list,\n",
    "    linewidth=1)\n",
    "\n",
    "plt.xlabel('Tool')\n",
    "plt.ylabel('Runtime [h:m:s]')\n",
    "\n",
    "plt.xticks(rotation=90)\n",
    "plt.yscale('log')\n",
    "\n",
    "plt.gca().yaxis.set_major_formatter(format_seconds)\n",
    "\n",
    "plt.tight_layout()\n",
    "plt.savefig(out_dir / 'runtime.pdf')"
   ]
  },
  {
   "cell_type": "markdown",
   "metadata": {},
   "source": [
    "# Enrichment correlation between tools"
   ]
  },
  {
   "cell_type": "code",
   "execution_count": null,
   "metadata": {},
   "outputs": [],
   "source": [
    "df.loc[df['p_value'] == 0, 'p_value'] = np.nan #df.loc[df['p_value'] > 0, 'p_value'].min()\n",
    "df['pvalue_trans'] = -np.log10(df['p_value'])\n",
    "df.head()"
   ]
  },
  {
   "cell_type": "code",
   "execution_count": null,
   "metadata": {},
   "outputs": [],
   "source": [
    "df_wide = df.pivot(index='term', columns='tool', values='pvalue_trans')\n",
    "df_wide.to_csv(out_dir / 'enrichments.csv')"
   ]
  },
  {
   "cell_type": "code",
   "execution_count": null,
   "metadata": {},
   "outputs": [],
   "source": [
    "df_wide.reset_index(inplace=True)\n",
    "df_wide.head()"
   ]
  },
  {
   "cell_type": "code",
   "execution_count": null,
   "metadata": {},
   "outputs": [],
   "source": [
    "g = corrplot(\n",
    "    df_wide,\n",
    "    #hue='term',\n",
    "    corr_method='spearman',\n",
    "    diag_kws=dict(\n",
    "        kde=False,\n",
    "        bins=np.linspace(\n",
    "            np.nanmin(df_wide.select_dtypes(include=np.number).values),\n",
    "            np.nanmax(df_wide.select_dtypes(include=np.number).values),\n",
    "            50\n",
    "        )\n",
    "    ),\n",
    "    lower_kws=dict(alpha=.5, rasterized=True, edgecolor='none'),\n",
    "    diag_sharey=False, height=3\n",
    ")\n",
    "\n",
    "#g.add_legend()\n",
    "g.savefig(out_dir / 'pvalue_scatterplots.pdf', dpi=200)"
   ]
  }
 ],
 "metadata": {
  "kernelspec": {
   "display_name": "Python 3",
   "language": "python",
   "name": "python3"
  },
  "language_info": {
   "codemirror_mode": {
    "name": "ipython",
    "version": 3
   },
   "file_extension": ".py",
   "mimetype": "text/x-python",
   "name": "python",
   "nbconvert_exporter": "python",
   "pygments_lexer": "ipython3",
   "version": "3.7.6"
  },
  "toc-autonumbering": true
 },
 "nbformat": 4,
 "nbformat_minor": 4
}
