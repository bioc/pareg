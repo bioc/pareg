{
 "cells": [
  {
   "cell_type": "code",
   "execution_count": null,
   "metadata": {},
   "outputs": [],
   "source": [
    "%load_ext rpy2.ipython"
   ]
  },
  {
   "cell_type": "code",
   "execution_count": null,
   "metadata": {},
   "outputs": [],
   "source": [
    "%%R\n",
    "devtools::load_all(\"/Users/kimja/university/PhD/projects/pathway_regression/tool/pareg\")"
   ]
  },
  {
   "cell_type": "code",
   "execution_count": null,
   "metadata": {},
   "outputs": [],
   "source": [
    "import numpy as np\n",
    "import pandas as pd\n",
    "\n",
    "import seaborn as sns\n",
    "import matplotlib.pyplot as plt\n",
    "from matplotlib.ticker import FuncFormatter\n",
    "\n",
    "from tqdm.auto import trange"
   ]
  },
  {
   "cell_type": "code",
   "execution_count": null,
   "metadata": {},
   "outputs": [],
   "source": [
    "sns.set_context('talk')"
   ]
  },
  {
   "cell_type": "markdown",
   "metadata": {},
   "source": [
    "# Basic test"
   ]
  },
  {
   "cell_type": "markdown",
   "metadata": {},
   "source": [
    "## Generate data"
   ]
  },
  {
   "cell_type": "code",
   "execution_count": null,
   "metadata": {},
   "outputs": [],
   "source": [
    "N = 10\n",
    "df_genes = pd.DataFrame({\n",
    "    'gene': [f'g{i:02}' for i in range(N)],\n",
    "    'pvalue': np.random.beta(0.1, 1, N)\n",
    "})\n",
    "df_genes.head()"
   ]
  },
  {
   "cell_type": "code",
   "execution_count": null,
   "metadata": {},
   "outputs": [],
   "source": [
    "df_terms = pd.DataFrame({\n",
    "    'name': ['foo'] * 10,\n",
    "    'gene': [f'g{i:02}' for i in range(5, 15)],\n",
    "})\n",
    "df_terms.head()"
   ]
  },
  {
   "cell_type": "markdown",
   "metadata": {},
   "source": [
    "## Run model"
   ]
  },
  {
   "cell_type": "code",
   "execution_count": null,
   "metadata": {},
   "outputs": [],
   "source": [
    "%%R -i df_genes,df_terms -o df_enrich\n",
    "\n",
    "df_enrich <- pareg(df_genes, df_terms)"
   ]
  },
  {
   "cell_type": "code",
   "execution_count": null,
   "metadata": {},
   "outputs": [],
   "source": [
    "df_enrich.head()"
   ]
  },
  {
   "cell_type": "markdown",
   "metadata": {},
   "source": [
    "# Investigate enrichment patterns"
   ]
  },
  {
   "cell_type": "code",
   "execution_count": null,
   "metadata": {},
   "outputs": [],
   "source": [
    "df_terms = pd.DataFrame({\n",
    "    'name': ['foo'] * 100,\n",
    "    'gene': [f'g{i:02}' for i in range(100, 200)],\n",
    "})\n",
    "\n",
    "df_terms.head()"
   ]
  },
  {
   "cell_type": "code",
   "execution_count": null,
   "metadata": {},
   "outputs": [],
   "source": [
    "window_size = 10\n",
    "genes = [f'g{i:02}' for i in range(90, 110)]\n",
    "repetition_num = 10\n",
    "\n",
    "tmp_list = []\n",
    "%Rpush df_terms\n",
    "for idx in trange(10):\n",
    "    for rep in trange(repetition_num, leave=False):\n",
    "        # generate genes\n",
    "        p_values = np.concatenate([\n",
    "            np.random.beta(1, 1, idx), # uniform\n",
    "            np.random.beta(0.1, 1, window_size), # \"significant\" p-values\n",
    "            np.random.beta(1, 1, 20-idx-window_size) # uniform\n",
    "        ])\n",
    "        tmp_genes = pd.DataFrame({\n",
    "            'gene': genes,\n",
    "            'pvalue': p_values\n",
    "        })\n",
    "\n",
    "        # compute enrichment\n",
    "        %Rpush tmp_genes\n",
    "        tmp = %R pareg(tmp_genes, df_terms)\n",
    "\n",
    "        tmp['idx'] = idx\n",
    "        tmp['repetition_idx'] = rep\n",
    "        tmp_list.append(tmp)\n",
    "df_enrich = pd.concat(tmp_list, ignore_index=True)"
   ]
  },
  {
   "cell_type": "code",
   "execution_count": null,
   "metadata": {},
   "outputs": [],
   "source": [
    "df_enrich.head()"
   ]
  },
  {
   "cell_type": "markdown",
   "metadata": {},
   "source": [
    "$g_i^{(s)} \\in G^{(s)} \\rightarrow y_i^{(s)} \\sim \\mathcal{B}(0.1, 1)$\n",
    "\n",
    "$g_i^{(ns)} \\in G^{(ns)} \\rightarrow y_i^{(ns)} \\sim \\mathcal{B}(1, 1)$\n",
    "\n",
    "Pathway (set of genes) $P$"
   ]
  },
  {
   "cell_type": "code",
   "execution_count": null,
   "metadata": {},
   "outputs": [],
   "source": [
    "plt.figure(figsize=(8,6))\n",
    "\n",
    "sns.lineplot(\n",
    "    x='idx', y='enrichment', data=df_enrich, \n",
    "    marker='o')\n",
    "\n",
    "plt.xlabel('Data composition')\n",
    "plt.xticks(\n",
    "    [\n",
    "        df_enrich['idx'].min(), \n",
    "        df_enrich['idx'].max()\n",
    "    ],\n",
    "    [\n",
    "        r'$G^{(s)} \\cap P = \\emptyset \\wedge G^{(ns)} \\subseteq P$', \n",
    "        r'$G^{(ns)} \\cap P = \\emptyset \\wedge G^{(s)} \\subseteq P$'\n",
    "    ]\n",
    ")\n",
    "\n",
    "plt.ylabel('Enrichment score')\n",
    "\n",
    "plt.savefig('enrichment_example.pdf')"
   ]
  }
 ],
 "metadata": {
  "kernelspec": {
   "display_name": "Python 3",
   "language": "python",
   "name": "python3"
  },
  "language_info": {
   "codemirror_mode": {
    "name": "ipython",
    "version": 3
   },
   "file_extension": ".py",
   "mimetype": "text/x-python",
   "name": "python",
   "nbconvert_exporter": "python",
   "pygments_lexer": "ipython3",
   "version": "3.7.3"
  },
  "toc-autonumbering": true
 },
 "nbformat": 4,
 "nbformat_minor": 2
}
